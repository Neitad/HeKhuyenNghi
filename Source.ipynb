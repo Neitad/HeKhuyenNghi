{
  "nbformat": 4,
  "nbformat_minor": 0,
  "metadata": {
    "colab": {
      "name": "Source.ipynb",
      "provenance": [],
      "collapsed_sections": [],
      "toc_visible": true
    },
    "kernelspec": {
      "name": "python3",
      "display_name": "Python 3"
    },
    "language_info": {
      "name": "python"
    }
  },
  "cells": [
    {
      "cell_type": "markdown",
      "source": [
        "#Import các thư viện cần thiết"
      ],
      "metadata": {
        "id": "s5_aVIM80yOp"
      }
    },
    {
      "cell_type": "code",
      "source": [
        "!pip install pyvi"
      ],
      "metadata": {
        "colab": {
          "base_uri": "https://localhost:8080/"
        },
        "id": "8eaV8c847WQq",
        "outputId": "7c095c78-522d-429e-f454-80f06cfddcfc"
      },
      "execution_count": null,
      "outputs": [
        {
          "output_type": "stream",
          "name": "stdout",
          "text": [
            "Collecting pyvi\n",
            "  Downloading pyvi-0.1.1-py2.py3-none-any.whl (8.5 MB)\n",
            "\u001b[K     |████████████████████████████████| 8.5 MB 26.8 MB/s \n",
            "\u001b[?25hRequirement already satisfied: scikit-learn in /usr/local/lib/python3.7/dist-packages (from pyvi) (1.0.1)\n",
            "Collecting sklearn-crfsuite\n",
            "  Downloading sklearn_crfsuite-0.3.6-py2.py3-none-any.whl (12 kB)\n",
            "Requirement already satisfied: joblib>=0.11 in /usr/local/lib/python3.7/dist-packages (from scikit-learn->pyvi) (1.1.0)\n",
            "Requirement already satisfied: numpy>=1.14.6 in /usr/local/lib/python3.7/dist-packages (from scikit-learn->pyvi) (1.19.5)\n",
            "Requirement already satisfied: threadpoolctl>=2.0.0 in /usr/local/lib/python3.7/dist-packages (from scikit-learn->pyvi) (3.0.0)\n",
            "Requirement already satisfied: scipy>=1.1.0 in /usr/local/lib/python3.7/dist-packages (from scikit-learn->pyvi) (1.4.1)\n",
            "Requirement already satisfied: tqdm>=2.0 in /usr/local/lib/python3.7/dist-packages (from sklearn-crfsuite->pyvi) (4.62.3)\n",
            "Requirement already satisfied: six in /usr/local/lib/python3.7/dist-packages (from sklearn-crfsuite->pyvi) (1.15.0)\n",
            "Requirement already satisfied: tabulate in /usr/local/lib/python3.7/dist-packages (from sklearn-crfsuite->pyvi) (0.8.9)\n",
            "Collecting python-crfsuite>=0.8.3\n",
            "  Downloading python_crfsuite-0.9.7-cp37-cp37m-manylinux1_x86_64.whl (743 kB)\n",
            "\u001b[K     |████████████████████████████████| 743 kB 39.7 MB/s \n",
            "\u001b[?25hInstalling collected packages: python-crfsuite, sklearn-crfsuite, pyvi\n",
            "Successfully installed python-crfsuite-0.9.7 pyvi-0.1.1 sklearn-crfsuite-0.3.6\n"
          ]
        }
      ]
    },
    {
      "cell_type": "code",
      "source": [
        "import pandas as pd\n",
        "import numpy as np\n",
        "import re\n",
        "from pyvi import ViTokenizer\n",
        "\n",
        "from sklearn.feature_extraction.text import TfidfTransformer\n",
        "from sklearn.feature_extraction.text import CountVectorizer\n",
        "from sklearn.pipeline import Pipeline\n",
        "from sklearn.feature_extraction.text import TfidfVectorizer\n",
        "\n",
        "from sklearn.metrics.pairwise import cosine_similarity,linear_kernel\n",
        "\n",
        "from gensim.models import KeyedVectors\n",
        "from gensim import models\n",
        "\n",
        "from keras.preprocessing.text import Tokenizer\n",
        "from keras.preprocessing.sequence import pad_sequences\n",
        "\n",
        "from sklearn.model_selection import train_test_split\n",
        "from sklearn.preprocessing import OneHotEncoder\n",
        "\n",
        "from matplotlib import pyplot as plt\n",
        "\n",
        "from sklearn.metrics import precision_score\n",
        "from sklearn.metrics import recall_score\n",
        "\n",
        "from collections import defaultdict\n"
      ],
      "metadata": {
        "id": "_CoAUpGF0vYa"
      },
      "execution_count": null,
      "outputs": []
    },
    {
      "cell_type": "markdown",
      "source": [
        "#Đọc dữ liệu"
      ],
      "metadata": {
        "id": "YN39SSF_w5ka"
      }
    },
    {
      "cell_type": "code",
      "source": [
        "dataset = pd.read_csv('/content/drive/MyDrive/DS300.M11/dataset/vnexpress_news.csv')"
      ],
      "metadata": {
        "id": "WNkzOlp3w7yu"
      },
      "execution_count": null,
      "outputs": []
    },
    {
      "cell_type": "code",
      "source": [
        "dataset['UserID']"
      ],
      "metadata": {
        "colab": {
          "base_uri": "https://localhost:8080/"
        },
        "id": "njXQRrZyT0Tx",
        "outputId": "0cbc45b9-4cc3-459f-d76d-c71dd90173f9"
      },
      "execution_count": null,
      "outputs": [
        {
          "output_type": "execute_result",
          "data": {
            "text/plain": [
              "0       1043446290 1070564564 1058227852 1002629270 10...\n",
              "1                                              1041608906\n",
              "2             1074373109 1005291929 1005634914 1046496997\n",
              "3       1057748718 1061840527 1014687651 1003052895 10...\n",
              "4       1056461424 1065962404 1071937430 1062696358 10...\n",
              "                              ...                        \n",
              "6310    1074268383 1028835601 1059803421 1049576733 10...\n",
              "6311    1002942675 1070849195 1005001771 1054575285 10...\n",
              "6312    1012746042 1072119819 1003023118 1002657154 10...\n",
              "6313                                1002679291 1069731719\n",
              "6314                                           1033920745\n",
              "Name: UserID, Length: 6315, dtype: object"
            ]
          },
          "metadata": {},
          "execution_count": 4
        }
      ]
    },
    {
      "cell_type": "code",
      "source": [
        "Title_length = []\n",
        "for title in dataset['NewsTitle']:\n",
        "  length = ViTokenizer.tokenize(title)\n",
        "  length = len(length.split())\n",
        "  Title_length.append(length)\n",
        "\n",
        "Abstract_length = []\n",
        "for abs in dataset['NewsAbstract']:\n",
        "  length = ViTokenizer.tokenize(abs)\n",
        "  length = len(length.split())\n",
        "  Abstract_length.append(length)\n"
      ],
      "metadata": {
        "id": "1bc7Ks_EiQ9Q"
      },
      "execution_count": null,
      "outputs": []
    },
    {
      "cell_type": "code",
      "source": [
        "plt.hist(Title_length)"
      ],
      "metadata": {
        "colab": {
          "base_uri": "https://localhost:8080/",
          "height": 334
        },
        "id": "HkmjTllNjFRB",
        "outputId": "46190d45-dfcb-41ff-852d-bae66df9ebef"
      },
      "execution_count": null,
      "outputs": [
        {
          "output_type": "execute_result",
          "data": {
            "text/plain": [
              "(array([  28.,  323., 1198., 1974., 1619.,  839.,  273.,   51.,    6.,\n",
              "           4.]),\n",
              " array([ 3. ,  4.9,  6.8,  8.7, 10.6, 12.5, 14.4, 16.3, 18.2, 20.1, 22. ]),\n",
              " <a list of 10 Patch objects>)"
            ]
          },
          "metadata": {},
          "execution_count": 6
        },
        {
          "output_type": "display_data",
          "data": {
            "image/png": "[encoded data removed]",
            "text/plain": [
              "<Figure size 432x288 with 1 Axes>"
            ]
          },
          "metadata": {
            "needs_background": "light"
          }
        }
      ]
    },
    {
      "cell_type": "code",
      "source": [
        "plt.hist(Abstract_length)"
      ],
      "metadata": {
        "colab": {
          "base_uri": "https://localhost:8080/",
          "height": 334
        },
        "id": "bYj2ge_dlMCz",
        "outputId": "80e9979e-2838-4ed7-d346-e3fe859f33f9"
      },
      "execution_count": null,
      "outputs": [
        {
          "output_type": "execute_result",
          "data": {
            "text/plain": [
              "(array([3.200e+01, 3.490e+02, 1.293e+03, 2.261e+03, 1.566e+03, 6.030e+02,\n",
              "        1.520e+02, 4.800e+01, 9.000e+00, 2.000e+00]),\n",
              " array([10. , 13.9, 17.8, 21.7, 25.6, 29.5, 33.4, 37.3, 41.2, 45.1, 49. ]),\n",
              " <a list of 10 Patch objects>)"
            ]
          },
          "metadata": {},
          "execution_count": 7
        },
        {
          "output_type": "display_data",
          "data": {
            "image/png": "[encoded data removed]",
            "text/plain": [
              "<Figure size 432x288 with 1 Axes>"
            ]
          },
          "metadata": {
            "needs_background": "light"
          }
        }
      ]
    },
    {
      "cell_type": "markdown",
      "source": [
        "#Tiền xử lý dữ liệu"
      ],
      "metadata": {
        "id": "ArMOh5CZLYFY"
      }
    },
    {
      "cell_type": "code",
      "source": [
        "def get_stopwords_list(stop_file_path):\n",
        "  with open(stop_file_path,'r',encoding=\"utf-8\") as f:\n",
        "    stopwords = f.readlines()\n",
        "    stop_set = set(m.strip() for m in stopwords)\n",
        "    return list(frozenset(stop_set))\n",
        "stopwords = get_stopwords_list(\"/content/drive/MyDrive/DS300.M11/project/vietnamese-stopwords.txt\")"
      ],
      "metadata": {
        "id": "pM-fD2rR9ICl"
      },
      "execution_count": null,
      "outputs": []
    },
    {
      "cell_type": "code",
      "source": [
        "def pre_processing(text):\n",
        "  text = text.lower()\n",
        "  # xóa \\xa0\n",
        "  text = re.sub('\\xa0',' ',text)\n",
        "  # Xóa dấu chấm, phẩy, hỏi ở cuối câu\n",
        "  text = re.sub(r\"[\\.,\\?]+$-\", \" \", text)\n",
        "  # Xóa tất cả dấu trong câu\n",
        "  text = text.replace(\",\", \" \").replace(\".\", \" \") \\\n",
        "        .replace(\";\", \" \").replace(\"“\", \" \") \\\n",
        "        .replace(\":\", \" \").replace(\"”\", \" \") \\\n",
        "        .replace('\"', \" \").replace(\"'\", \" \") \\\n",
        "        .replace(\"!\", \" \").replace(\"?\", \" \") \\\n",
        "        .replace(\"-\", \" \").replace(\"?\", \" \") \\\n",
        "        .replace(\"(\",\" \").replace(\")\",\" \") \\\n",
        "        .replace(\"%\",\" \").replace(\"+\",\" \") \\\n",
        "        .replace(\"=\",\" \").replace(\"__\",\" \")\n",
        "  text = text.strip()\n",
        "  #tách từ\n",
        "  text = ViTokenizer.tokenize(text)\n",
        "  text = text.split()\n",
        "  #xóa stopwords\n",
        "  text = [w for w in text if w not in stopwords]\n",
        "  text = \" \".join(text)\n",
        "  return text"
      ],
      "metadata": {
        "id": "Uf4r7tXIx7w1"
      },
      "execution_count": null,
      "outputs": []
    },
    {
      "cell_type": "markdown",
      "source": [
        "#TfidfVectorizer"
      ],
      "metadata": {
        "id": "sAxcfqbOLdY2"
      }
    },
    {
      "cell_type": "code",
      "source": [
        "contents = dataset[['NewsTitle','NewsAbstract']].agg(' '.join, axis=1)\n",
        "#contents = dataset['NewsAbstract']\n",
        "#contents = dataset['NewsTitle']"
      ],
      "metadata": {
        "id": "R3fWkOdELnZ1"
      },
      "execution_count": null,
      "outputs": []
    },
    {
      "cell_type": "code",
      "source": [
        "contents"
      ],
      "metadata": {
        "colab": {
          "base_uri": "https://localhost:8080/"
        },
        "id": "lWUKP74N8HEN",
        "outputId": "6f9c08b8-a254-4603-a094-abc767e52e38"
      },
      "execution_count": null,
      "outputs": [
        {
          "output_type": "execute_result",
          "data": {
            "text/plain": [
              "0       Người đàn ông 'nghiện' chế tạo máy bay mô hình...\n",
              "1       Lời khuyên vàng khi chọn rèm cửa - VnExpress Đ...\n",
              "2       Truyện tranh siêu nhân có giá 2,6 triệu USD - ...\n",
              "3       Căn hộ chia không gian bằng cánh tủ - VnExpres...\n",
              "4       10 phong cách thiết kế nhà nổi bật năm 2021 - ...\n",
              "                              ...                        \n",
              "6310    Cứu cô gái 18 tuổi bị đột quỵ - VnExpress Sức ...\n",
              "6311    Covid-19 Hà Nội: Test nhanh dương tính, nhiều ...\n",
              "6312    TP HCM kêu gọi nhà thuốc tư nhân chống dịch Co...\n",
              "6313    Bệnh xá 30 năm tuổi trên đảo Trường Sa - VnExp...\n",
              "6314    Cách tập thở, tăng thể lực cho F0 tại nhà - Vn...\n",
              "Length: 6315, dtype: object"
            ]
          },
          "metadata": {},
          "execution_count": 11
        }
      ]
    },
    {
      "cell_type": "code",
      "source": [
        "topic = np.array(pd.get_dummies(dataset['Topic']))"
      ],
      "metadata": {
        "id": "PEtzMtGU1Jhz"
      },
      "execution_count": null,
      "outputs": []
    },
    {
      "cell_type": "code",
      "source": [
        "corpus = contents.apply(pre_processing)"
      ],
      "metadata": {
        "id": "_uTrD9BlLy3l"
      },
      "execution_count": null,
      "outputs": []
    },
    {
      "cell_type": "code",
      "source": [
        "vectorizer = TfidfVectorizer()"
      ],
      "metadata": {
        "id": "4KF1MJNJ-1Yt"
      },
      "execution_count": null,
      "outputs": []
    },
    {
      "cell_type": "code",
      "source": [
        "topic.shape"
      ],
      "metadata": {
        "id": "mybAbJdF-mv_",
        "outputId": "a4b61a06-e5bd-4004-9e50-f6e13dfc82ef",
        "colab": {
          "base_uri": "https://localhost:8080/"
        }
      },
      "execution_count": null,
      "outputs": [
        {
          "output_type": "execute_result",
          "data": {
            "text/plain": [
              "(6315, 9)"
            ]
          },
          "metadata": {},
          "execution_count": 15
        }
      ]
    },
    {
      "cell_type": "code",
      "source": [
        "overview_matrix = vectorizer.fit_transform(corpus).toarray()\n",
        "overview_matrix_tfidf = np.hstack((overview_matrix,topic))"
      ],
      "metadata": {
        "id": "GZnu11VQA6qp"
      },
      "execution_count": null,
      "outputs": []
    },
    {
      "cell_type": "code",
      "source": [
        "cosine_similarity_matrix = cosine_similarity(overview_matrix_tfidf)"
      ],
      "metadata": {
        "id": "QxosEaRLMQhJ"
      },
      "execution_count": null,
      "outputs": []
    },
    {
      "cell_type": "code",
      "source": [
        "mapping = pd.Series(dataset.index,index=dataset['NewsTitle'])\n",
        "mapping"
      ],
      "metadata": {
        "id": "G4ri3qw7M7-Z",
        "colab": {
          "base_uri": "https://localhost:8080/"
        },
        "outputId": "85c6c9af-d832-4145-bcba-64c24493e669"
      },
      "execution_count": null,
      "outputs": [
        {
          "output_type": "execute_result",
          "data": {
            "text/plain": [
              "NewsTitle\n",
              "Người đàn ông 'nghiện' chế tạo máy bay mô hình - VnExpress Đời sống       0\n",
              "Lời khuyên vàng khi chọn rèm cửa - VnExpress Đời sống                     1\n",
              "Truyện tranh siêu nhân có giá 2,6 triệu USD - VnExpress Đời sống          2\n",
              "Căn hộ chia không gian bằng cánh tủ - VnExpress Đời sống                  3\n",
              "10 phong cách thiết kế nhà nổi bật năm 2021 - VnExpress Đời sống          4\n",
              "                                                                       ... \n",
              "Cứu cô gái 18 tuổi bị đột quỵ - VnExpress Sức khỏe                     6310\n",
              "Covid-19 Hà Nội: Test nhanh dương tính, nhiều F0 tự đến viện           6311\n",
              "TP HCM kêu gọi nhà thuốc tư nhân chống dịch Covid-19                   6312\n",
              "Bệnh xá 30 năm tuổi trên đảo Trường Sa - VnExpress Sức khỏe            6313\n",
              "Cách tập thở, tăng thể lực cho F0 tại nhà - VnExpress Sức khỏe         6314\n",
              "Length: 6315, dtype: int64"
            ]
          },
          "metadata": {},
          "execution_count": 18
        }
      ]
    },
    {
      "cell_type": "code",
      "source": [
        "def get_newtitle(newsid):\n",
        "  return dataset[dataset['NewsID']==newsid]['NewsTitle'].values[0]\n",
        "\n",
        "def get_newid(newtitle):\n",
        "  return dataset[dataset['NewsTitle']==newtitle]['NewsID'].values[0]"
      ],
      "metadata": {
        "id": "ZoXDcxPzQhJX"
      },
      "execution_count": null,
      "outputs": []
    },
    {
      "cell_type": "markdown",
      "source": [
        "#word2vec"
      ],
      "metadata": {
        "id": "I834b-Ao4wOe"
      }
    },
    {
      "cell_type": "code",
      "source": [
        "word2vec_path = \"/content/drive/MyDrive/DS300.M11/project/embedding/baomoi.window2.vn.model.bin.gz\"\n",
        "model_w2v = KeyedVectors.load_word2vec_format(word2vec_path,binary=True)"
      ],
      "metadata": {
        "id": "-upxlhKa8A4R"
      },
      "execution_count": null,
      "outputs": []
    },
    {
      "cell_type": "code",
      "source": [
        "vocab = model_w2v.wv.vocab"
      ],
      "metadata": {
        "colab": {
          "base_uri": "https://localhost:8080/"
        },
        "id": "gVvKKlIKPw_k",
        "outputId": "f0dc4496-788d-4cd6-8afe-c9ea6ac0a8dd"
      },
      "execution_count": null,
      "outputs": [
        {
          "output_type": "stream",
          "name": "stderr",
          "text": [
            "/usr/local/lib/python3.7/dist-packages/ipykernel_launcher.py:1: DeprecationWarning: Call to deprecated `wv` (Attribute will be removed in 4.0.0, use self instead).\n",
            "  \"\"\"Entry point for launching an IPython kernel.\n"
          ]
        }
      ]
    },
    {
      "cell_type": "code",
      "source": [
        "max_len = 0\n",
        "for sent in corpus:\n",
        "  tok = sent.split()\n",
        "  if(len(tok)>max_len):\n",
        "    max_len = len(tok)\n",
        "print(max_len)"
      ],
      "metadata": {
        "colab": {
          "base_uri": "https://localhost:8080/"
        },
        "id": "vWmLw-JQ-L-e",
        "outputId": "831a0c5d-14e6-4697-c3a5-37354f953b09"
      },
      "execution_count": null,
      "outputs": [
        {
          "output_type": "stream",
          "name": "stdout",
          "text": [
            "46\n"
          ]
        }
      ]
    },
    {
      "cell_type": "code",
      "source": [
        "tokenizer=Tokenizer()\n",
        "tokenizer.fit_on_texts(corpus)\n",
        "tokenized_documents=tokenizer.texts_to_sequences(corpus)\n",
        "tokenized_paded_documents=pad_sequences(tokenized_documents,maxlen=max_len,padding='post')\n",
        "vocab_size=len(tokenizer.word_index)+1\n",
        "print (tokenized_paded_documents[0])"
      ],
      "metadata": {
        "colab": {
          "base_uri": "https://localhost:8080/"
        },
        "id": "pZwoZnlt74v7",
        "outputId": "6b8c6c29-f04c-46c0-ba97-f8655d570568"
      },
      "execution_count": null,
      "outputs": [
        {
          "output_type": "stream",
          "name": "stdout",
          "text": [
            "[ 551  936 2189  185  153   44   93  442   34    1   51   48  314   44\n",
            "   93  442   34  857   22   78    7  214   17   19  434  185  153  998\n",
            " 1706  231    0    0    0    0    0    0    0    0    0    0    0    0\n",
            "    0    0    0    0]\n"
          ]
        }
      ]
    },
    {
      "cell_type": "code",
      "source": [
        "embedding_matrix=np.zeros((vocab_size,300))\n",
        "for word,i in tokenizer.word_index.items():\n",
        "    if word in model_w2v:\n",
        "        embedding_matrix[i]=model_w2v[word]\n",
        "\n",
        "document_word_embeddings=np.zeros((len(tokenized_paded_documents),max_len,300))\n",
        "for i in range(len(tokenized_paded_documents)):\n",
        "    for j in range(len(tokenized_paded_documents[0])):\n",
        "        document_word_embeddings[i][j]=embedding_matrix[tokenized_paded_documents[i][j]]\n",
        "document_word_embeddings.shape"
      ],
      "metadata": {
        "id": "iddmvlDeEwWP",
        "colab": {
          "base_uri": "https://localhost:8080/"
        },
        "outputId": "c2ce65f2-3348-4b74-ecb1-8f0190763b1f"
      },
      "execution_count": null,
      "outputs": [
        {
          "output_type": "execute_result",
          "data": {
            "text/plain": [
              "(6315, 46, 300)"
            ]
          },
          "metadata": {},
          "execution_count": 24
        }
      ]
    },
    {
      "cell_type": "code",
      "source": [
        "document_embeddings=np.zeros((len(tokenized_paded_documents),300))\n",
        "words=vectorizer.get_feature_names()\n",
        "for i in range(len(document_word_embeddings)):\n",
        "  for j in range(len(words)):\n",
        "    if words[j] in tokenizer.word_index.keys():\n",
        "      document_embeddings[i]+=embedding_matrix[tokenizer.word_index[words[j]]]*overview_matrix[i][j]\n",
        "print(document_embeddings.shape)"
      ],
      "metadata": {
        "id": "xKtkpOIJ9Bqj",
        "colab": {
          "base_uri": "https://localhost:8080/"
        },
        "outputId": "72362f6f-aa7c-484d-a6a6-e770e5bb66ea"
      },
      "execution_count": null,
      "outputs": [
        {
          "output_type": "stream",
          "name": "stderr",
          "text": [
            "/usr/local/lib/python3.7/dist-packages/sklearn/utils/deprecation.py:87: FutureWarning: Function get_feature_names is deprecated; get_feature_names is deprecated in 1.0 and will be removed in 1.2. Please use get_feature_names_out instead.\n",
            "  warnings.warn(msg, category=FutureWarning)\n"
          ]
        },
        {
          "output_type": "stream",
          "name": "stdout",
          "text": [
            "(6315, 300)\n"
          ]
        }
      ]
    },
    {
      "cell_type": "code",
      "source": [
        "overview_w2v = cosine_similarity(document_embeddings)"
      ],
      "metadata": {
        "id": "sWJvtrLzLfOX"
      },
      "execution_count": null,
      "outputs": []
    },
    {
      "cell_type": "code",
      "source": [
        "np.save('/content/drive/MyDrive/DS300.M11/project/w2v_similarity.npy',overview_w2v)"
      ],
      "metadata": {
        "id": "BcgBz4sLpZ4E"
      },
      "execution_count": null,
      "outputs": []
    },
    {
      "cell_type": "code",
      "source": [
        "w2v_similarity = load('/content/drive/MyDrive/DS300.M11/project/w2v_similarity.npy')"
      ],
      "metadata": {
        "id": "Spy1wDosqylD"
      },
      "execution_count": null,
      "outputs": []
    },
    {
      "cell_type": "code",
      "source": [
        "w2v_similarity"
      ],
      "metadata": {
        "colab": {
          "base_uri": "https://localhost:8080/"
        },
        "id": "Y0WOXEjgq4LB",
        "outputId": "d73f6131-701b-492d-d643-ec0b3fddc4c6"
      },
      "execution_count": null,
      "outputs": [
        {
          "output_type": "execute_result",
          "data": {
            "text/plain": [
              "array([[ 1.        ,  0.11799741, -0.11400331, ..., -0.01977316,\n",
              "         0.20475593,  0.08364552],\n",
              "       [ 0.11799741,  1.        , -0.02489175, ..., -0.23345207,\n",
              "         0.22933033,  0.24388477],\n",
              "       [-0.11400331, -0.02489175,  1.        , ...,  0.04392547,\n",
              "         0.14944221,  0.01727033],\n",
              "       ...,\n",
              "       [-0.01977316, -0.23345207,  0.04392547, ...,  1.        ,\n",
              "         0.10343423, -0.05999022],\n",
              "       [ 0.20475593,  0.22933033,  0.14944221, ...,  0.10343423,\n",
              "         1.        ,  0.19348127],\n",
              "       [ 0.08364552,  0.24388477,  0.01727033, ..., -0.05999022,\n",
              "         0.19348127,  1.        ]])"
            ]
          },
          "metadata": {},
          "execution_count": 43
        }
      ]
    },
    {
      "cell_type": "markdown",
      "source": [
        "#FastText"
      ],
      "metadata": {
        "id": "hpIyE-Xic-on"
      }
    },
    {
      "cell_type": "code",
      "source": [
        "path = '/content/drive/MyDrive/DS300.M11/project/fasttext_similarity.npy'\n",
        "from numpy import load\n",
        "fasttext_similarity = load(path)\n",
        "fasttext_similarity"
      ],
      "metadata": {
        "colab": {
          "base_uri": "https://localhost:8080/"
        },
        "id": "ZuRRCfPxdDrl",
        "outputId": "18b4e43c-be01-4b72-fc63-16563632af53"
      },
      "execution_count": null,
      "outputs": [
        {
          "output_type": "execute_result",
          "data": {
            "text/plain": [
              "array([[1.        , 0.74405742, 0.65834884, ..., 0.69940555, 0.74262241,\n",
              "        0.6316404 ],\n",
              "       [0.74405742, 1.        , 0.51186034, ..., 0.64465898, 0.65501582,\n",
              "        0.66504744],\n",
              "       [0.65834884, 0.51186034, 1.        , ..., 0.67096294, 0.62281734,\n",
              "        0.49161743],\n",
              "       ...,\n",
              "       [0.69940555, 0.64465898, 0.67096294, ..., 1.        , 0.72078351,\n",
              "        0.62316852],\n",
              "       [0.74262241, 0.65501582, 0.62281734, ..., 0.72078351, 1.        ,\n",
              "        0.62211386],\n",
              "       [0.6316404 , 0.66504744, 0.49161743, ..., 0.62316852, 0.62211386,\n",
              "        1.        ]])"
            ]
          },
          "metadata": {},
          "execution_count": 27
        }
      ]
    },
    {
      "cell_type": "code",
      "source": [
        "fasttext_similarity.shape"
      ],
      "metadata": {
        "colab": {
          "base_uri": "https://localhost:8080/"
        },
        "id": "gVZDToUl3fiH",
        "outputId": "eb8f22c4-66e1-4750-8d9a-5544c03924bd"
      },
      "execution_count": null,
      "outputs": [
        {
          "output_type": "execute_result",
          "data": {
            "text/plain": [
              "(6315, 6315)"
            ]
          },
          "metadata": {},
          "execution_count": 28
        }
      ]
    },
    {
      "cell_type": "markdown",
      "source": [
        "# Jaccard"
      ],
      "metadata": {
        "id": "fKLc5Mr3IxGJ"
      }
    },
    {
      "cell_type": "code",
      "source": [
        "def jaccard_set(list1, list2):\n",
        "    intersection = len(list(set(list1).intersection(list2)))\n",
        "    union = (len(list1) + len(list2)) - intersection\n",
        "    return float(intersection) / union"
      ],
      "metadata": {
        "id": "V43nmxZ2qFfZ"
      },
      "execution_count": null,
      "outputs": []
    },
    {
      "cell_type": "markdown",
      "source": [
        "#Demo"
      ],
      "metadata": {
        "id": "WDxsxEsunL12"
      }
    },
    {
      "cell_type": "code",
      "source": [
        "def recommend_news(userid,newid,method ='tfidf'):\n",
        "  title = get_newtitle(str(newid))\n",
        "  new_index = mapping[title]\n",
        "  print('Tiêu đề bài báo : ',title)\n",
        "  print('')\n",
        "  if method == 'tfidf':\n",
        "    similarity_score = list(enumerate(cosine_similarity_matrix[new_index]))\n",
        "  if method =='jaccard':\n",
        "    jaccard_similarity = np.zeros(shape=(len(dataset)))\n",
        "    for i in range(len(dataset)):\n",
        "      jaccard_similarity[i] = jaccard_set(list(tokenized_documents[new_index]),list(tokenized_documents[i]))\n",
        "    similarity_score = list(enumerate(jaccard_similarity))\n",
        "  if method =='word2vec':\n",
        "    similarity_score = list(enumerate(overview_w2v[new_index]))\n",
        "  if method =='fasttext':\n",
        "    similarity_score = list(enumerate(fasttext_similarity[new_index]))\n",
        "  similarity_score = sorted(similarity_score, key = lambda x:x[1],reverse=True)\n",
        "  similarity_score = similarity_score[1:10]\n",
        "  recommendations = [(dataset['NewsTitle'].loc[index],score) for index,score in similarity_score]\n",
        "  print('Danh sách top 10 các bài báo khuyến nghị dựa trên ' +str(method)+' cho user có id là {} : '.format(userid))\n",
        "  print('')\n",
        "  return recommendations"
      ],
      "metadata": {
        "id": "zjlqG2rnpNp1"
      },
      "execution_count": null,
      "outputs": []
    },
    {
      "cell_type": "code",
      "source": [
        "recommend_news(userid =1002611542 ,newid = 4404506,method = 'word2vec')"
      ],
      "metadata": {
        "id": "a6Lr1dRT57jo"
      },
      "execution_count": null,
      "outputs": []
    },
    {
      "cell_type": "markdown",
      "source": [
        "#Đánh giá"
      ],
      "metadata": {
        "id": "thJkW0mOI1Gc"
      }
    },
    {
      "cell_type": "code",
      "source": [
        "test = pd.read_csv('/content/drive/MyDrive/DS300.M11/dataset/test_set.csv')"
      ],
      "metadata": {
        "id": "GHRvyIGsSHnM"
      },
      "execution_count": null,
      "outputs": []
    },
    {
      "cell_type": "code",
      "source": [
        "def precision_recall(userid,threshold=0.5,method = 'tfidf'):\n",
        "    \"\"\"Return precision and recall at k metrics for each user\"\"\"\n",
        "    id_true = test[test['UserID']==userid]['NewsID'].values[0].split()\n",
        "    precision = 0\n",
        "    recall = 0\n",
        "    len_news = len(test[test['UserID']==userid]['NewsID'].values[0].split())/4\n",
        "    for newid in test[test['UserID']==userid]['NewsID'].values[0].split():\n",
        "      id_pred  = []\n",
        "      for title,score in recommend_news(userid,newid,method):\n",
        "        if score >=threshold:\n",
        "          id_pred.append(get_newid(title))\n",
        "      n_rel_and_rec_k = len(list(set(id_true).intersection(id_pred)))\n",
        "      precision += n_rel_and_rec_k/len(id_pred) if id_pred!=[] else 0\n",
        "      recall += n_rel_and_rec_k/len(id_true) if id_true!=[] else 0\n",
        "    return precision/len_news,recall/len_news"
      ],
      "metadata": {
        "id": "zOxhoC0e4SSL"
      },
      "execution_count": null,
      "outputs": []
    },
    {
      "cell_type": "code",
      "source": [
        "'''for method in ['tfidf','word2vec','fasttext']:\n",
        "  precision = [0 for i in range(len(test))]\n",
        "  recall = [0 for i in range(len(test))]\n",
        "  for i in range(len(test)):\n",
        "    userid = test['UserID'].loc[i]\n",
        "    precision[i], recall[i] = precision_recall(userid,method = method)\n",
        "  print('Precision score of {}'.format(method),np.round(np.mean(precision)*100,2))\n",
        "  print('Recall score of {}'.format(method),np.round(np.mean(recall)*100,2))'''"
      ],
      "metadata": {
        "id": "yK7NoOGuRGMm"
      },
      "execution_count": null,
      "outputs": []
    }
  ]
}